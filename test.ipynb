{
 "cells": [
  {
   "cell_type": "code",
   "execution_count": 2,
   "metadata": {},
   "outputs": [
    {
     "data": {
      "text/plain": [
       "array([[ 0,  2,  0, -4],\n",
       "       [ 0,  3,  0, -4],\n",
       "       [ 0,  4,  0, -4],\n",
       "       ...,\n",
       "       [ 9,  2,  9,  3],\n",
       "       [ 9,  3,  9,  3],\n",
       "       [ 9,  4,  9,  3]])"
      ]
     },
     "execution_count": 2,
     "metadata": {},
     "output_type": "execute_result"
    }
   ],
   "source": [
    "import numpy as np\n",
    "\n",
    "vectors = [np.arange(10), np.arange(2, 5), np.arange(10), np.arange(-4, 4)]\n",
    "np.array(np.meshgrid(*vectors)).T.reshape(-1, len(vectors))"
   ]
  }
 ],
 "metadata": {
  "kernelspec": {
   "display_name": "max_cliques",
   "language": "python",
   "name": "python3"
  },
  "language_info": {
   "codemirror_mode": {
    "name": "ipython",
    "version": 3
   },
   "file_extension": ".py",
   "mimetype": "text/x-python",
   "name": "python",
   "nbconvert_exporter": "python",
   "pygments_lexer": "ipython3",
   "version": "3.7.16"
  },
  "orig_nbformat": 4
 },
 "nbformat": 4,
 "nbformat_minor": 2
}
